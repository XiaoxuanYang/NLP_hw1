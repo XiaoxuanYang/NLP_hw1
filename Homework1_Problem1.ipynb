{
 "cells": [
  {
   "cell_type": "markdown",
   "metadata": {},
   "source": [
    "## Problem 1, write code to collect Tweets!\n",
    "\n",
    "2 deliverables for this assignment:\n",
    "\n",
    "-A text file named ​{YOUR_UNI}_hw1_1_conda.txt​ with the ​conda command​ you used torun the script-Data:-The data should be a JSON file named ​{YOUR_UNI}_hw1_1_data.json\n",
    "\n",
    "-The data should have exactly 100 tweets!-The data should be in the format of Twitter’s default response.-Do NOT turn in your code"
   ]
  },
  {
   "cell_type": "code",
   "execution_count": 1,
   "metadata": {},
   "outputs": [],
   "source": [
    "import json\n",
    "from random import uniform\n",
    "from time import sleep\n",
    "import requests\n",
    "from bs4 import BeautifulSoup\n",
    "from urllib import urllib.parse.quote as quote \n",
    "from base64 import base64.b64encode as b64encode"
   ]
  },
  {
   "cell_type": "code",
   "execution_count": null,
   "metadata": {},
   "outputs": [],
   "source": [
    "#get key and secret from Twitter\n",
    "key = 'MyKeyHere'\n",
    "secret = 'MySecretHere'\n",
    "\n",
    "#encode credentials\n",
    "encoded_key = quote(key)\n",
    "encoded_secret = quote(secret)\n",
    "bearer ='{}:{}'.format(encoded_key, encoded_secret)\n",
    "bearer_b64 = b64encode(bytes(bearer, 'utf-8')).decode('utf-8')"
   ]
  },
  {
   "cell_type": "code",
   "execution_count": null,
   "metadata": {},
   "outputs": [],
   "source": [
    "auth_headers = {\n",
    "    'Authorization': 'Basic' + bearer_b64\n",
    "    'Content-Type': 'application/x-www-form-urlencoded;charset=UTF-8',\n",
    "    }\n",
    "\n",
    "auth_response = requests.post(url = 'https://api.twitter.com/oauth2/token',\n",
    "                             headers = auth_headers,\n",
    "                             data = {'grant_type':'client_credentials'})\n",
    "\n",
    "headers = {'Bearer ' + auth_response.json()['access_token']}\n",
    "\n",
    "access_token = auth_resp.json()['access_token']"
   ]
  },
  {
   "cell_type": "code",
   "execution_count": null,
   "metadata": {},
   "outputs": [],
   "source": [
    "http://benalexkeen.com/interacting-with-the-twitter-api-using-python/"
   ]
  }
 ],
 "metadata": {
  "kernelspec": {
   "display_name": "Python 3",
   "language": "python",
   "name": "python3"
  },
  "language_info": {
   "codemirror_mode": {
    "name": "ipython",
    "version": 3
   },
   "file_extension": ".py",
   "mimetype": "text/x-python",
   "name": "python",
   "nbconvert_exporter": "python",
   "pygments_lexer": "ipython3",
   "version": "3.6.5"
  }
 },
 "nbformat": 4,
 "nbformat_minor": 2
}
